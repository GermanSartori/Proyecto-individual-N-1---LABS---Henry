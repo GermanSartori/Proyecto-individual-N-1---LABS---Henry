{
 "cells": [
  {
   "cell_type": "code",
   "execution_count": null,
   "metadata": {},
   "outputs": [],
   "source": [
    "import pandas as pd\n",
    "import matplotlib.pyplot as plt\n",
    "import seaborn as sns\n",
    "from wordcloud import WordCloud\n",
    "from sklearn.metrics.pairwise import cosine_similarity\n",
    "from sklearn.feature_extraction.text import CountVectorizer\n",
    "import numpy as np\n",
    "from sklearn.cluster import KMeans\n",
    "from sklearn.preprocessing import StandardScaler\n",
    "import missingno as msno"
   ]
  },
  {
   "cell_type": "markdown",
   "metadata": {},
   "source": [
    "Carga y reducción de registros de datasets"
   ]
  },
  {
   "cell_type": "code",
   "execution_count": null,
   "metadata": {},
   "outputs": [],
   "source": [
    "movies_df = pd.read_csv(r\"E:\\Repositorios y bases de datos\\Henry DS\\Proyecto-individual-N-1---LABS---Henry\\datos_procesados\\movies_df.csv\")\n",
    "director_actor_df = pd.read_csv(r\"E:\\Repositorios y bases de datos\\Henry DS\\Proyecto-individual-N-1---LABS---Henry\\datos_procesados\\director_actor_df.csv\")"
   ]
  },
  {
   "cell_type": "code",
   "execution_count": null,
   "metadata": {},
   "outputs": [],
   "source": [
    "# Eliminación de columnas que pueden haber sido útiles para los endpoints pero que no usaría como parámentro para recoemndar\n",
    "movies_df = movies_df.drop(columns=['original_title', 'release_date', 'return'])\n",
    "\n",
    "movies_df"
   ]
  },
  {
   "cell_type": "markdown",
   "metadata": {},
   "source": [
    "## Análisis"
   ]
  },
  {
   "cell_type": "markdown",
   "metadata": {},
   "source": [
    "Descripción"
   ]
  },
  {
   "cell_type": "code",
   "execution_count": null,
   "metadata": {},
   "outputs": [],
   "source": [
    "movies_df.dtypes"
   ]
  },
  {
   "cell_type": "code",
   "execution_count": null,
   "metadata": {},
   "outputs": [],
   "source": [
    "director_actor_df.dtypes"
   ]
  },
  {
   "cell_type": "code",
   "execution_count": null,
   "metadata": {},
   "outputs": [],
   "source": [
    "# Primeras filas del dataset\n",
    "print(movies_df.head())\n",
    "\n",
    "# Información general del dataset\n",
    "print(movies_df.info())\n",
    "\n",
    "# Estadística descriptiva\n",
    "print(movies_df.describe())\n"
   ]
  },
  {
   "cell_type": "code",
   "execution_count": null,
   "metadata": {},
   "outputs": [],
   "source": [
    "director_actor_df = director_actor_df.drop(columns=['Unnamed: 0'])\n",
    "\n",
    "print(director_actor_df.head())\n",
    "print(director_actor_df.info())\n",
    "print(director_actor_df.describe())"
   ]
  },
  {
   "cell_type": "markdown",
   "metadata": {},
   "source": [
    "Chequeo valores nulos"
   ]
  },
  {
   "cell_type": "code",
   "execution_count": null,
   "metadata": {},
   "outputs": [],
   "source": [
    "print(movies_df.isnull().sum())\n"
   ]
  },
  {
   "cell_type": "code",
   "execution_count": null,
   "metadata": {},
   "outputs": [],
   "source": [
    "print(director_actor_df.isnull().sum())"
   ]
  },
  {
   "cell_type": "markdown",
   "metadata": {},
   "source": [
    "Chequeo de duplicados"
   ]
  },
  {
   "cell_type": "code",
   "execution_count": null,
   "metadata": {},
   "outputs": [],
   "source": [
    "duplicates = movies_df.duplicated()\n",
    "print(duplicates)\n"
   ]
  },
  {
   "cell_type": "code",
   "execution_count": null,
   "metadata": {},
   "outputs": [],
   "source": [
    "duplicates = director_actor_df.duplicated()\n",
    "print(duplicates)"
   ]
  },
  {
   "cell_type": "markdown",
   "metadata": {},
   "source": [
    "Chequeo de faltantes"
   ]
  },
  {
   "cell_type": "code",
   "execution_count": null,
   "metadata": {},
   "outputs": [],
   "source": [
    "zero_as_missing = (director_actor_df == 0).sum()\n",
    "print(\"Valores iguales a 0 contados como faltantes por columna:\")\n",
    "print(zero_as_missing)"
   ]
  },
  {
   "cell_type": "code",
   "execution_count": null,
   "metadata": {},
   "outputs": [],
   "source": [
    "zero_as_missing = (movies_df == 0).sum()\n",
    "print(\"Valores iguales a 0 contados como faltantes por columna:\")\n",
    "print(zero_as_missing)"
   ]
  },
  {
   "cell_type": "markdown",
   "metadata": {},
   "source": [
    "<sus>Por esta razón, los análisis que tomen los valores de 'budget', 'revenue', 'vote average' y vote 'count' se tomarán con precaución.</sus>"
   ]
  },
  {
   "cell_type": "markdown",
   "metadata": {},
   "source": [
    "## movies_df Gráficos"
   ]
  },
  {
   "cell_type": "markdown",
   "metadata": {},
   "source": [
    "Histograma"
   ]
  },
  {
   "cell_type": "code",
   "execution_count": null,
   "metadata": {},
   "outputs": [],
   "source": [
    "import matplotlib.pyplot as plt\n",
    "\n",
    "# Recuento de la cantidad de películas por cada director\n",
    "director_counts = director_actor_df['director'].value_counts()\n",
    "\n",
    "# Límite a los primeros 20 directores más frecuentes para visualización\n",
    "top_directors = director_counts.head(20)\n",
    "\n",
    "# Creación del histograma\n",
    "plt.bar(top_directors.index, top_directors.values, color='green', alpha=0.7)\n",
    "plt.xlabel('Director')\n",
    "plt.ylabel('Número de películas')\n",
    "plt.title('Número de películas por director (Top 20)')\n",
    "plt.xticks(rotation=90)\n",
    "plt.tight_layout()\n",
    "plt.show()\n"
   ]
  },
  {
   "cell_type": "markdown",
   "metadata": {},
   "source": [
    " <sub>A partir del director número 11, la cantidad de películas dirigidas comienza a disminuir más drásticamente. Por ejemplo, el director número 20 solo ha dirigido 50 películas, lo que es un 60% menos que la cantidad de películas dirigidas por John Ford, el director número 1.</sub>"
   ]
  },
  {
   "cell_type": "markdown",
   "metadata": {},
   "source": [
    "Selección de columnas numéricas y cálculo de la matriz de correlación\n",
    "<sub>(se consideran los resultados con precaución debido a los valores faltantes)</sub>"
   ]
  },
  {
   "cell_type": "code",
   "execution_count": null,
   "metadata": {},
   "outputs": [],
   "source": [
    "# Elección de columnas para números\n",
    "numeric_cols = ['budget', 'revenue', 'vote_average', 'vote_count']\n",
    "\n",
    "# Conversión de valores no numericos a NaN\n",
    "movies_df[numeric_cols] = movies_df[numeric_cols].replace('Not available', np.nan)\n",
    "\n",
    "# Conversión a tipo numérico\n",
    "movies_df[numeric_cols] = movies_df[numeric_cols].apply(pd.to_numeric)\n",
    "\n",
    "\n",
    "# Cálculo de la matriz de correlación\n",
    "correlation_matrix = movies_df[numeric_cols].corr()\n",
    "print(correlation_matrix)"
   ]
  },
  {
   "cell_type": "markdown",
   "metadata": {},
   "source": [
    "Heatmap"
   ]
  },
  {
   "cell_type": "code",
   "execution_count": null,
   "metadata": {},
   "outputs": [],
   "source": [
    "plt.figure(figsize=(10, 8))\n",
    "sns.heatmap(correlation_matrix, annot=True, cmap='coolwarm', vmin=-1, vmax=1)\n",
    "plt.title('Matriz de correlación entre variables numéricas')\n",
    "plt.show()"
   ]
  },
  {
   "cell_type": "markdown",
   "metadata": {},
   "source": [
    "<sub>Las películas con mayores ingresos tienden a tener un mayor número de votos, según revenue y vote_count.\n",
    "Las películas con mayor presupuesto tienden a tener mayores ingresos, un mayor número de votos y una calificación promedio más alta.<sub/>\n",
    "\n"
   ]
  },
  {
   "cell_type": "markdown",
   "metadata": {},
   "source": [
    "Gráfico de barras"
   ]
  },
  {
   "cell_type": "code",
   "execution_count": null,
   "metadata": {},
   "outputs": [],
   "source": [
    "genre_counts = movies_df['genre'].value_counts()\n",
    "genre_counts.plot(kind='bar', color='green', alpha=0.7)\n",
    "plt.xlabel('Genres')\n",
    "plt.ylabel('Número de películas')\n",
    "plt.title('Número de películas por género')\n",
    "plt.xticks(rotation=45)\n",
    "plt.show()"
   ]
  },
  {
   "cell_type": "markdown",
   "metadata": {},
   "source": [
    "<sub>Preferencia por ciertos géneros, con el drama y la comedia dominando significativamente.</sub>"
   ]
  },
  {
   "cell_type": "markdown",
   "metadata": {},
   "source": [
    "Diagrama de dispersión"
   ]
  },
  {
   "cell_type": "code",
   "execution_count": null,
   "metadata": {},
   "outputs": [],
   "source": [
    "plt.scatter(movies_df['budget'], movies_df['revenue'], alpha=0.5)\n",
    "plt.xlabel('Budget')\n",
    "plt.ylabel('Revenue')\n",
    "plt.title('Budget vs Revenue')\n",
    "plt.show()"
   ]
  },
  {
   "cell_type": "markdown",
   "metadata": {},
   "source": [
    "<sub>Los mayores presupuestos suelen generar más ingresos. La dispersión de los puntos indica que tal relación no es siempre garantía de éxito. La mayoría de las películas se concentran en presupuestos e ingresos bajos, con algunos outliers entre la relación de presupuesto y retornos, pero no necesariamente son errores. Estos son algunos positivos y otros negativos entre la relación de valores.</sub>"
   ]
  },
  {
   "cell_type": "markdown",
   "metadata": {},
   "source": [
    "Nube de palabras según el título de la película"
   ]
  },
  {
   "cell_type": "code",
   "execution_count": null,
   "metadata": {},
   "outputs": [],
   "source": [
    "# Concatenación de todos los títulos en un solo string\n",
    "text = ' '.join(movies_df['title'].astype(str))\n",
    "\n",
    "# Creación de la nube de palabras\n",
    "wordcloud = WordCloud(width=800, height=400, background_color='white').generate(text)\n",
    "\n",
    "# Muestra de la nube de palabras\n",
    "plt.figure(figsize=(10, 6))\n",
    "plt.imshow(wordcloud, interpolation='bilinear')\n",
    "plt.axis('off')\n",
    "plt.title('Nube de palabras por título')\n",
    "plt.show()"
   ]
  },
  {
   "cell_type": "markdown",
   "metadata": {},
   "source": [
    "Nube de palabras de género"
   ]
  },
  {
   "cell_type": "code",
   "execution_count": null,
   "metadata": {},
   "outputs": [],
   "source": [
    "# Concatenación de todos los títulos en un solo string\n",
    "text = ' '.join(movies_df['genre'].astype(str))\n",
    "\n",
    "# Creación de la nube de palabras\n",
    "wordcloud = WordCloud(width=800, height=400, background_color='white').generate(text)\n",
    "\n",
    "# Muestra de la nube de palabras\n",
    "plt.figure(figsize=(10, 6))\n",
    "plt.imshow(wordcloud, interpolation='bilinear')\n",
    "plt.axis('off')\n",
    "plt.title('Nube de palabras por género')\n",
    "plt.show()"
   ]
  },
  {
   "cell_type": "markdown",
   "metadata": {},
   "source": [
    "## director_actor_df Gráficos"
   ]
  },
  {
   "cell_type": "markdown",
   "metadata": {},
   "source": [
    "Nube de palabras según directores"
   ]
  },
  {
   "cell_type": "code",
   "execution_count": null,
   "metadata": {},
   "outputs": [],
   "source": [
    "director_names = director_actor_df['director'].str.split(' ')\n",
    "\n",
    "# Concatenación de nombres y apellidos de directores en un solo string\n",
    "text_directors = ' '.join([' '.join(name) for name in director_names])\n",
    "\n",
    "# Creación de la nube de palabras para directores\n",
    "wordcloud_directors = WordCloud(width=1000, height=400, background_color='white').generate(text_directors)\n",
    "\n",
    "# Muestra de la nube de palabras para directores\n",
    "plt.figure(figsize=(10, 6))\n",
    "plt.imshow(wordcloud_directors, interpolation='bilinear')\n",
    "plt.axis('off')\n",
    "plt.title('Nube de palabras según directores')\n",
    "plt.show()"
   ]
  },
  {
   "cell_type": "markdown",
   "metadata": {},
   "source": [
    "Nube de palabras según actores"
   ]
  },
  {
   "cell_type": "code",
   "execution_count": null,
   "metadata": {},
   "outputs": [],
   "source": [
    "actor_names = director_actor_df['actor'].str.split(' ')\n",
    "\n",
    "# Concatenación de nombres y apellidos de actores en un solo string\n",
    "text_actors = ' '.join([' '.join(name) for name in actor_names])\n",
    "\n",
    "# Creación de la nube de palabras para actores\n",
    "wordcloud_actors = WordCloud(width=800, height=400, background_color='white').generate(text_actors)\n",
    "\n",
    "# Muestra de la nube de palabras para actores\n",
    "plt.figure(figsize=(10, 6))\n",
    "plt.imshow(wordcloud_actors, interpolation='bilinear')\n",
    "plt.axis('off')\n",
    "plt.title('Nube de palabras según actores')\n",
    "plt.show()"
   ]
  }
 ],
 "metadata": {
  "kernelspec": {
   "display_name": "Python 3",
   "language": "python",
   "name": "python3"
  },
  "language_info": {
   "codemirror_mode": {
    "name": "ipython",
    "version": 3
   },
   "file_extension": ".py",
   "mimetype": "text/x-python",
   "name": "python",
   "nbconvert_exporter": "python",
   "pygments_lexer": "ipython3",
   "version": "3.11.9"
  }
 },
 "nbformat": 4,
 "nbformat_minor": 2
}
