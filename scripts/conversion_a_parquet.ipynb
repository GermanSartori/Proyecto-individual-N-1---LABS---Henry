{
 "cells": [
  {
   "cell_type": "code",
   "execution_count": 16,
   "metadata": {},
   "outputs": [],
   "source": [
    "import pandas as pd\n",
    "import pyarrow as pa"
   ]
  },
  {
   "cell_type": "markdown",
   "metadata": {},
   "source": [
    "## Conversión de los datasets originales a parquet"
   ]
  },
  {
   "cell_type": "code",
   "execution_count": 20,
   "metadata": {},
   "outputs": [],
   "source": [
    "# Ruta de los archivos CSV y Parquet\n",
    "csv_file_credits = 'E:\\\\Repositorios y bases de datos\\\\Henry DS\\\\Proyecto-individual-N-1---LABS---Henry\\\\datasets originales\\\\credits.csv'\n",
    "csv_file_movies = 'E:\\\\Repositorios y bases de datos\\\\Henry DS\\\\Proyecto-individual-N-1---LABS---Henry\\\\datasets originales\\\\movies_dataset.csv'\n",
    "\n",
    "credits_parquet = 'E:\\\\Repositorios y bases de datos\\\\Henry DS\\\\Proyecto-individual-N-1---LABS---Henry\\\\datos_procesados\\\\credits.parquet'\n",
    "movies_parquet = 'E:\\\\Repositorios y bases de datos\\\\Henry DS\\\\Proyecto-individual-N-1---LABS---Henry\\\\datos_procesados\\\\movies_dataset.parquet'\n",
    "\n",
    "\n"
   ]
  },
  {
   "cell_type": "code",
   "execution_count": 21,
   "metadata": {},
   "outputs": [
    {
     "name": "stderr",
     "output_type": "stream",
     "text": [
      "C:\\Users\\Germán\\AppData\\Local\\Temp\\ipykernel_2232\\3859496125.py:3: DtypeWarning: Columns (10) have mixed types. Specify dtype option on import or set low_memory=False.\n",
      "  df_movies = pd.read_csv(csv_file_movies)\n"
     ]
    }
   ],
   "source": [
    "# Leer archivos CSV\n",
    "df_credits = pd.read_csv(csv_file_credits)\n",
    "df_movies = pd.read_csv(csv_file_movies)\n",
    "\n"
   ]
  },
  {
   "cell_type": "code",
   "execution_count": 22,
   "metadata": {},
   "outputs": [],
   "source": [
    "# Convertir tipos de datos\n",
    "df_movies['popularity'] = pd.to_numeric(df_movies['popularity'], errors='coerce')  # Intenta convertir 'popularity' a numérico\n",
    "\n",
    "\n",
    "# Guardar como archivos Parquet\n",
    "df_credits.to_parquet(credits_parquet)\n",
    "df_movies.to_parquet(movies_parquet)\n",
    "\n"
   ]
  }
 ],
 "metadata": {
  "kernelspec": {
   "display_name": "venv",
   "language": "python",
   "name": "python3"
  },
  "language_info": {
   "codemirror_mode": {
    "name": "ipython",
    "version": 3
   },
   "file_extension": ".py",
   "mimetype": "text/x-python",
   "name": "python",
   "nbconvert_exporter": "python",
   "pygments_lexer": "ipython3",
   "version": "3.11.9"
  }
 },
 "nbformat": 4,
 "nbformat_minor": 2
}
