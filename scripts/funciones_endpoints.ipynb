{
 "cells": [
  {
   "cell_type": "code",
   "execution_count": null,
   "metadata": {},
   "outputs": [],
   "source": [
    "import pandas as pd"
   ]
  },
  {
   "cell_type": "code",
   "execution_count": null,
   "metadata": {},
   "outputs": [],
   "source": [
    "df_movies_funcion_1 = pd.read_excel(r\"E:\\Repositorios y bases de datos\\Henry DS\\Proyecto final 1 - LABS\\archivos VSC\\df_movies_limpio.xlsx\")"
   ]
  },
  {
   "cell_type": "markdown",
   "metadata": {},
   "source": [
    "## Filmaciones por mes"
   ]
  },
  {
   "cell_type": "code",
   "execution_count": null,
   "metadata": {},
   "outputs": [],
   "source": [
    "import pandas as pd\n",
    "import calendar\n",
    "\n",
    "# Suponiendo que df_movies_funcion_1 ya está definido y cargado correctamente\n",
    "df_movies_funcion_1['release_date'] = pd.to_datetime(df_movies_funcion_1['release_date'], errors='coerce')\n",
    "\n",
    "# Eliminar filas con fechas no válidas\n",
    "df_movies_funcion_1 = df_movies_funcion_1.dropna(subset=['release_date'])\n",
    "\n",
    "def cantidad_filmaciones_mes(mes):\n",
    "\n",
    "    # Filtrar películas por el mes especificado\n",
    "    filtered_movies = df_movies_funcion_1[df_movies_funcion_1['release_date'].dt.month_name(locale='es_ES').str.lower() == mes.lower()]\n",
    "    \n",
    "    # Contar la cantidad de películas filtradas\n",
    "    cantidad = filtered_movies.shape[0]\n",
    "    \n",
    "    return cantidad\n",
    "\n",
    "# Llamar a la función cantidad_filmaciones_mes con el mes 'enero'\n",
    "cantidad_enero = cantidad_filmaciones_mes('enero')\n",
    "print(f'Cantidad de películas estrenadas en enero: {cantidad_enero}')\n",
    "\n",
    "# Llamar a la función cantidad_filmaciones_mes con el mes 'febrero'\n",
    "cantidad_febrero = cantidad_filmaciones_mes('febrero')\n",
    "print(f'Cantidad de películas estrenadas en febrero: {cantidad_febrero}')"
   ]
  },
  {
   "cell_type": "markdown",
   "metadata": {},
   "source": [
    "## Filmaciones por día"
   ]
  },
  {
   "cell_type": "code",
   "execution_count": null,
   "metadata": {},
   "outputs": [],
   "source": [
    "# Definición de la función cantidad_filmaciones_dia\n",
    "def cantidad_filmaciones_dia(dia):\n",
    "    # Convertir la columna de fechas a tipo datetime si aún no lo está (puede que ya esté hecho)\n",
    "    df_movies_funcion_1['release_date'] = pd.to_datetime(df_movies_funcion_1['release_date'], errors='coerce')\n",
    "    \n",
    "    # Filtrar películas por el día especificado\n",
    "    filtered_movies = df_movies_funcion_1[df_movies_funcion_1['release_date'].dt.day == dia]\n",
    "    \n",
    "    # Contar la cantidad de películas filtradas\n",
    "    cantidad = filtered_movies.shape[0]\n",
    "    \n",
    "    return cantidad\n",
    "\n",
    "# Probar la función con diferentes días\n",
    "dias_a_consultar = [1, 15, 31]  # Puedes agregar más días según tus necesidades\n",
    "\n",
    "for dia in dias_a_consultar:\n",
    "    cantidad = cantidad_filmaciones_dia(dia)\n",
    "    print(f'Cantidad de películas estrenadas el día {dia}: {cantidad}')"
   ]
  },
  {
   "cell_type": "markdown",
   "metadata": {},
   "source": [
    "## Score por título"
   ]
  },
  {
   "cell_type": "code",
   "execution_count": null,
   "metadata": {},
   "outputs": [],
   "source": [
    "# Definición de la función score_titulo\n",
    "def score_titulo(titulo):\n",
    "    # Convertir la columna de fechas a tipo datetime si aún no lo está (puede que ya esté hecho)\n",
    "    df_movies_funcion_1['release_date'] = pd.to_datetime(df_movies_funcion_1['release_date'], errors='coerce')\n",
    "    \n",
    "    # Filtrar película por título\n",
    "    filtered_movie = df_movies_funcion_1[df_movies_funcion_1['title'].str.lower() == titulo.lower()]\n",
    "    \n",
    "    # Obtener título, año de estreno y score\n",
    "    if not filtered_movie.empty:\n",
    "        titulo = filtered_movie.iloc[0]['title']\n",
    "        año_estreno = filtered_movie.iloc[0]['release_date'].year\n",
    "        score = filtered_movie.iloc[0]['vote_average']  # Aquí podrías ajustar según el score o popularidad que necesites\n",
    "        return f'La película `{titulo}` fue estrenada en el año `{año_estreno}` con un score/popularidad de `{score}`'\n",
    "    else:\n",
    "        return f'No se encontró la película con título `{titulo}` en el dataset'\n",
    "\n",
    "# Ejemplo de uso de la función score_titulo\n",
    "titulo_buscar = 'Avatar'  # Puedes cambiar el título según la película que quieras buscar\n",
    "resultado = score_titulo(titulo_buscar)\n",
    "print(resultado)"
   ]
  },
  {
   "cell_type": "markdown",
   "metadata": {},
   "source": [
    "## Votos por título"
   ]
  },
  {
   "cell_type": "code",
   "execution_count": null,
   "metadata": {},
   "outputs": [],
   "source": [
    "# Definición de la función votos_titulo\n",
    "def votos_titulo(titulo):\n",
    "    # Filtrar película por título\n",
    "    filtered_movie = df_movies_funcion_1[df_movies_funcion_1['title'].str.lower() == titulo.lower()]\n",
    "    \n",
    "    # Verificar si se encontró la película y tiene al menos 2000 votos\n",
    "    if not filtered_movie.empty:\n",
    "        cantidad_votos = filtered_movie.iloc[0]['vote_count']\n",
    "        promedio_votos = filtered_movie.iloc[0]['vote_average']\n",
    "        \n",
    "        if cantidad_votos >= 2000:\n",
    "            return f'La película `{titulo}` fue estrenada en el año `{filtered_movie.iloc[0][\"release_date\"].year}`. La misma cuenta con un total de `{cantidad_votos}` valoraciones, con un promedio de `{promedio_votos}`.'\n",
    "        else:\n",
    "            return f'La película `{titulo}` fue estrenada en el año `{filtered_movie.iloc[0][\"release_date\"].year}`. Sin embargo, no cumple con la condición de tener al menos 2000 valoraciones.'\n",
    "    else:\n",
    "        return f'No se encontró la película con título `{titulo}` en el dataset'\n",
    "\n",
    "# Ejemplo de uso de la función votos_titulo\n",
    "titulo_buscar = 'Avatar'  # Puedes cambiar el título según la película que quieras buscar\n",
    "resultado = votos_titulo(titulo_buscar)\n",
    "print(resultado)"
   ]
  },
  {
   "cell_type": "markdown",
   "metadata": {},
   "source": [
    "## Get actor"
   ]
  },
  {
   "cell_type": "code",
   "execution_count": null,
   "metadata": {},
   "outputs": [],
   "source": [
    "merged_df = pd.read_excel(r\"E:\\Repositorios y bases de datos\\Henry DS\\Proyecto final 1 - LABS\\archivos VSC\\merged_df.xlsx\")"
   ]
  },
  {
   "cell_type": "code",
   "execution_count": null,
   "metadata": {},
   "outputs": [],
   "source": [
    "import locale\n",
    "\n",
    "def get_actor(nombre_actor, df_movies_funcion_1, merged_df):\n",
    "    nombre_actor = nombre_actor.lower()\n",
    "    \n",
    "    # Verificar si el actor existe en el DataFrame merged_df como actor\n",
    "    actor_presente = merged_df['actor'].apply(lambda lista_actores: any(nombre_actor in actor.lower() for actor in lista_actores) if isinstance(lista_actores, list) else False)\n",
    "    \n",
    "    if not actor_presente.any():\n",
    "        return f\"{nombre_actor} no ha participado en ninguna película.\"\n",
    "    \n",
    "    # Verificar si el actor también es director en alguna película del merged_df\n",
    "    director_presente = merged_df['director'].apply(lambda director: nombre_actor in director.lower() if isinstance(director, str) else False)\n",
    "    \n",
    "    if director_presente.any():\n",
    "        return 0\n",
    "    \n",
    "    # Obtener las películas en las que el actor ha participado como actor\n",
    "    df_actor = merged_df[actor_presente]\n",
    "    \n",
    "    # Calcular el retorno total y promedio si 'return' está en df_movies_funcion_1\n",
    "    if 'return' in df_movies_funcion_1.columns:\n",
    "        # Filtrar las películas en las que el actor ha participado como actor\n",
    "        df_actor_movies = df_movies_funcion_1[df_movies_funcion_1['movie_id'].isin(df_actor['movie_id'])]\n",
    "        \n",
    "        #if df_actor_movies.empty:\n",
    "        #    return f\"El actor {nombre_actor.capitalize()} ha participado en {df_actor.shape[0]:,} filmaciones, pero no hay información sobre el retorno de las películas.\"\n",
    "        \n",
    "        # Calcular el retorno total y promedio en dólares\n",
    "        df_actor_movies.loc[:, 'return_dollars'] = df_actor_movies['return'] * df_actor_movies['budget']\n",
    "        retorno_total_dollars = df_actor_movies['return_dollars'].sum()\n",
    "        retorno_promedio_dollars = df_actor_movies['return_dollars'].mean()\n",
    "        \n",
    "        # Formatear los números con puntos cada tres dígitos y sin decimales\n",
    "        retorno_total_formatted = locale.format_string(\"%d\", retorno_total_dollars, grouping=True)\n",
    "        retorno_promedio_formatted = locale.format_string(\"%d\", retorno_promedio_dollars, grouping=True)\n",
    "        \n",
    "        cantidad_filmaciones = df_actor.shape[0]\n",
    "        return (f\"{nombre_actor.capitalize()} ha participado en {cantidad_filmaciones:,} filmaciones. \"\n",
    "                f\"Ha conseguido un retorno total de ${retorno_total_formatted} con un promedio de ${retorno_promedio_formatted} por filmación en dólares.\")\n",
    "    #else:\n",
    "    #   return \"No se puede calcular el retorno total y promedio porque 'return' no está presente en df_movies_funcion_1.\"\n",
    "\n",
    "# Configurar la localización para el formato de números\n",
    "locale.setlocale(locale.LC_ALL, 'es_ES.UTF-8')\n",
    "\n",
    "# Ejemplo de uso con df_movies_funcion_1 y merged_df:\n",
    "nombre_actor = 'Adam Sandler'\n",
    "resultado_actor = get_actor(nombre_actor, df_movies_funcion_1, merged_df)\n",
    "print(resultado_actor)\n"
   ]
  },
  {
   "cell_type": "markdown",
   "metadata": {},
   "source": [
    "## Get director"
   ]
  },
  {
   "cell_type": "code",
   "execution_count": null,
   "metadata": {},
   "outputs": [],
   "source": [
    "import pandas as pd\n",
    "\n",
    "def get_director(nombre_director):\n",
    "    # Filtrar el DataFrame merged_df por el nombre del director\n",
    "    director_movies = merged_df[merged_df['director'] == nombre_director]\n",
    "    \n",
    "    # Verificar si el director tiene películas en el dataset\n",
    "    if director_movies.empty:\n",
    "        return f\"No se encontraron películas para el director {nombre_director}\"\n",
    "    \n",
    "    # Obtener los movie_id de las películas dirigidas por el director\n",
    "    movie_ids = director_movies['movie_id'].unique()\n",
    "    \n",
    "    # Filtrar df_movies_funcion_1 por los movie_id obtenidos\n",
    "    director_movies_details = df_movies_funcion_1[df_movies_funcion_1['movie_id'].isin(movie_ids)]\n",
    "    \n",
    "    # Calcular el retorno en dólares (revenue - budget)\n",
    "    director_movies_details['return_dollars'] = director_movies_details['revenue'] - director_movies_details['budget']\n",
    "    \n",
    "    # Calcular el retorno promedio en dólares de todas las películas del director\n",
    "    avg_return_dollars = director_movies_details['return_dollars'].mean()\n",
    "    \n",
    "    # Formatear los valores numéricos como dólares\n",
    "    def format_dollars(value):\n",
    "        return f\"${value:,.0f}\"\n",
    "    \n",
    "    director_movies_details['budget'] = director_movies_details['budget'].apply(format_dollars)\n",
    "    director_movies_details['revenue'] = director_movies_details['revenue'].apply(format_dollars)\n",
    "    director_movies_details['return_dollars'] = director_movies_details['return_dollars'].apply(format_dollars)\n",
    "    \n",
    "    # Eliminar la hora del día de la fecha de lanzamiento\n",
    "    director_movies_details['release_date'] = pd.to_datetime(director_movies_details['release_date']).dt.date\n",
    "    \n",
    "    # Preparar el texto para cada película\n",
    "    peliculas_info = []\n",
    "    for index, row in director_movies_details.iterrows():\n",
    "        pelicula_info = (\n",
    "            f\"Título: {row['title']}\\n\"\n",
    "            f\"Fecha de Lanzamiento: {row['release_date']}\\n\"\n",
    "            f\"Retorno en Dólares: {row['return_dollars']}\\n\"\n",
    "            f\"Presupuesto: {row['budget']}\\n\"\n",
    "            f\"Ingresos: {row['revenue']}\\n\"\n",
    "            f\"Calificación Promedio: {row['vote_average']}\\n\"\n",
    "            \"----------------------------------------\"\n",
    "        )\n",
    "        peliculas_info.append(pelicula_info)\n",
    "    \n",
    "    # Crear el diccionario de respuesta\n",
    "    resultado = {\n",
    "        'director': nombre_director,\n",
    "        'retorno_promedio': format_dollars(avg_return_dollars),\n",
    "        'peliculas': peliculas_info\n",
    "    }\n",
    "    \n",
    "    return resultado\n",
    "\n",
    "# Probar la función con un ejemplo\n",
    "nombre_director_ejemplo = 'Steven Spielberg'  # Cambia esto por el nombre de un director en tu dataset\n",
    "resultado = get_director(nombre_director_ejemplo)\n",
    "\n",
    "# Imprimir los resultados de manera más legible\n",
    "print(f\"Director: {resultado['director']}\")\n",
    "print(f\"Retorno Promedio: {resultado['retorno_promedio']}\")\n",
    "print(\"Detalles de las películas:\")\n",
    "print(\"----------------------------------------\")\n",
    "for pelicula_info in resultado['peliculas']:\n",
    "    print(pelicula_info)\n"
   ]
  }
 ],
 "metadata": {
  "kernelspec": {
   "display_name": "Python 3",
   "language": "python",
   "name": "python3"
  },
  "language_info": {
   "codemirror_mode": {
    "name": "ipython",
    "version": 3
   },
   "file_extension": ".py",
   "mimetype": "text/x-python",
   "name": "python",
   "nbconvert_exporter": "python",
   "pygments_lexer": "ipython3",
   "version": "3.11.9"
  }
 },
 "nbformat": 4,
 "nbformat_minor": 2
}
